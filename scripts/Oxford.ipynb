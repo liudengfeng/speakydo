{
 "cells": [
  {
   "cell_type": "code",
   "execution_count": 1,
   "metadata": {},
   "outputs": [],
   "source": [
    "import json\n",
    "import pdfplumber\n",
    "import re"
   ]
  },
  {
   "cell_type": "code",
   "execution_count": 2,
   "metadata": {},
   "outputs": [],
   "source": [
    "def save(d: dict, file_name):\n",
    "    with open(f\"{file_name}.json\", \"w\", encoding=\"utf-8\") as f:\n",
    "        json.dump(\n",
    "            d,\n",
    "            f,\n",
    "            ensure_ascii=False,\n",
    "        )"
   ]
  },
  {
   "cell_type": "code",
   "execution_count": 3,
   "metadata": {},
   "outputs": [],
   "source": [
    "pattern = r\"(\\w+)\\s(\\(.+?\\)\\s)?[a-z]+\\.\\s([A-C][12])\""
   ]
  },
  {
   "cell_type": "code",
   "execution_count": 4,
   "metadata": {},
   "outputs": [],
   "source": [
    "LEVEL_MAPS = {\n",
    "    \"A1\": \"basic\",\n",
    "    \"A2\": \"basic\",\n",
    "    \"B1\": \"intermediate\",\n",
    "    \"B2\": \"intermediate\",\n",
    "    \"C1\": \"advanced\",\n",
    "    \"C2\": \"advanced\",\n",
    "}"
   ]
  },
  {
   "cell_type": "code",
   "execution_count": 5,
   "metadata": {},
   "outputs": [],
   "source": [
    "from collections import defaultdict"
   ]
  },
  {
   "cell_type": "code",
   "execution_count": 20,
   "metadata": {},
   "outputs": [],
   "source": [
    "d = defaultdict(list)"
   ]
  },
  {
   "cell_type": "code",
   "execution_count": 17,
   "metadata": {},
   "outputs": [],
   "source": [
    "w_pattern = \"\\w+\\d\""
   ]
  },
  {
   "cell_type": "code",
   "execution_count": 19,
   "metadata": {},
   "outputs": [],
   "source": [
    "with pdfplumber.open(\n",
    "    \"/home/ldf/github/speakydo/resource/en/American_Oxford_3000.pdf\"\n",
    ") as pdf:\n",
    "    for page in pdf.pages:\n",
    "        text = page.extract_text_simple()\n",
    "        for line in text.splitlines():\n",
    "            result = re.findall(pattern, line)\n",
    "            for g in result:\n",
    "                w = g[0]\n",
    "                if re.match(w_pattern, w):\n",
    "                    w = w[:-1]\n",
    "                d[g[2]].append(w)"
   ]
  },
  {
   "cell_type": "code",
   "execution_count": 10,
   "metadata": {},
   "outputs": [],
   "source": [
    "with pdfplumber.open(\n",
    "    \"/home/ldf/github/speakydo/resource/en/American_Oxford_5000.pdf\"\n",
    ") as pdf:\n",
    "    for page in pdf.pages:\n",
    "        text = page.extract_text_simple()\n",
    "        for line in text.splitlines():\n",
    "            result = re.findall(pattern, line)\n",
    "            for g in result:\n",
    "                w = g[0]\n",
    "                if re.match(w_pattern, w):\n",
    "                    w = w[:-1]\n",
    "                d[g[2]].append(w)"
   ]
  },
  {
   "cell_type": "code",
   "execution_count": 12,
   "metadata": {},
   "outputs": [],
   "source": [
    "new_d = {\"basic\": [], \"intermediate\": [], \"advanced\": []}\n",
    "for k, v in d.items():\n",
    "    new_d[LEVEL_MAPS[k]].extend(v)"
   ]
  },
  {
   "cell_type": "code",
   "execution_count": 14,
   "metadata": {},
   "outputs": [],
   "source": [
    "data = {\"basic\": [], \"intermediate\": [], \"advanced\": []}\n",
    "\n",
    "for k, v in new_d.items():\n",
    "    data[k] = list(set(v))"
   ]
  },
  {
   "cell_type": "code",
   "execution_count": 15,
   "metadata": {},
   "outputs": [],
   "source": [
    "save(data, \"oxford\")"
   ]
  }
 ],
 "metadata": {
  "kernelspec": {
   "display_name": "speakydo",
   "language": "python",
   "name": "python3"
  },
  "language_info": {
   "codemirror_mode": {
    "name": "ipython",
    "version": 3
   },
   "file_extension": ".py",
   "mimetype": "text/x-python",
   "name": "python",
   "nbconvert_exporter": "python",
   "pygments_lexer": "ipython3",
   "version": "3.11.4"
  },
  "orig_nbformat": 4
 },
 "nbformat": 4,
 "nbformat_minor": 2
}
