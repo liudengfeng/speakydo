{
 "cells": [
  {
   "cell_type": "code",
   "execution_count": 1,
   "metadata": {},
   "outputs": [],
   "source": [
    "\"\"\"使用gTTS获取英语单词或短语的语音\"\"\"\n",
    "from pathlib import Path\n",
    "import os\n",
    "import json"
   ]
  },
  {
   "cell_type": "code",
   "execution_count": 2,
   "metadata": {},
   "outputs": [],
   "source": [
    "WORDS_PATH = Path(\n",
    "    os.path.join(\n",
    "        os.path.expanduser(\"~\"), \"Documents\", \"GitHub\", \"speakydo\", \"resource\", \"words\"\n",
    "    )\n",
    ")"
   ]
  },
  {
   "cell_type": "code",
   "execution_count": 3,
   "metadata": {},
   "outputs": [],
   "source": [
    "file_paths = sorted([file_name for file_name in WORDS_PATH.glob(\"*.json\")])"
   ]
  },
  {
   "cell_type": "code",
   "execution_count": 4,
   "metadata": {},
   "outputs": [],
   "source": [
    "word_set = []\n",
    "for selected_file in file_paths:\n",
    "    with open(selected_file, \"r\") as f:\n",
    "        # 读取 JSON 文件\n",
    "        words = json.load(f)\n",
    "        word_set.extend([w[\"name\"] for w in words])\n",
    "\n",
    "word_set = set(word_set)"
   ]
  },
  {
   "cell_type": "code",
   "execution_count": 5,
   "metadata": {},
   "outputs": [],
   "source": [
    "from gtts import gTTS\n",
    "import time\n",
    "import random"
   ]
  },
  {
   "cell_type": "code",
   "execution_count": 9,
   "metadata": {},
   "outputs": [],
   "source": [
    "def word2fname(word: str):\n",
    "    w = word.replace(\" \", \"_\")\n",
    "    w = w.replace(\"/\", \"-\")\n",
    "    w = w.replace(\"?\", \"问号\")\n",
    "    return w\n",
    "\n",
    "\n",
    "def fname2word(stem: str):\n",
    "    word = stem.replace(\"_\", \" \")\n",
    "    word = word.replace(\"-\", \"/\")\n",
    "    word = word.replace(\"问号\", \"?\")\n",
    "    return word"
   ]
  },
  {
   "cell_type": "code",
   "execution_count": 12,
   "metadata": {},
   "outputs": [],
   "source": [
    "for w in word_set:\n",
    "    fn = word2fname(w)\n",
    "    fn = f\"voice/{fn}.mp3\"\n",
    "    if not os.path.exists(fn):\n",
    "        tts = gTTS(w, lang=\"en\")\n",
    "        tts.save(fn)\n",
    "        time.sleep(random.random())"
   ]
  }
 ],
 "metadata": {
  "kernelspec": {
   "display_name": "speakydo",
   "language": "python",
   "name": "python3"
  },
  "language_info": {
   "codemirror_mode": {
    "name": "ipython",
    "version": 3
   },
   "file_extension": ".py",
   "mimetype": "text/x-python",
   "name": "python",
   "nbconvert_exporter": "python",
   "pygments_lexer": "ipython3",
   "version": "3.11.4"
  },
  "orig_nbformat": 4
 },
 "nbformat": 4,
 "nbformat_minor": 2
}
