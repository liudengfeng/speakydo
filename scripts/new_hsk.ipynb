{
 "cells": [
  {
   "cell_type": "code",
   "execution_count": 10,
   "metadata": {},
   "outputs": [],
   "source": [
    "import json\n",
    "import pdfplumber\n",
    "import re\n",
    "import operator"
   ]
  },
  {
   "cell_type": "code",
   "execution_count": 2,
   "metadata": {},
   "outputs": [],
   "source": [
    "# 基础模式\n",
    "pattern = r\"([0-9]{1,4})\\s([\\u4e00-\\u9fa5]+)\""
   ]
  },
  {
   "cell_type": "code",
   "execution_count": 3,
   "metadata": {},
   "outputs": [],
   "source": [
    "def save(d: dict, file_name):\n",
    "    with open(f\"{file_name}.json\", \"w\", encoding=\"utf-8\") as f:\n",
    "        json.dump(\n",
    "            d,\n",
    "            f,\n",
    "            ensure_ascii=False,\n",
    "        )"
   ]
  },
  {
   "cell_type": "markdown",
   "metadata": {},
   "source": [
    "## 一级词汇\n",
    "- 从二级词汇表中补充83~89"
   ]
  },
  {
   "cell_type": "code",
   "execution_count": 13,
   "metadata": {},
   "outputs": [],
   "source": [
    "# 一级 83~89需要人工修正\n",
    "d = {}\n",
    "with pdfplumber.open(\"/home/ldf/github/speakydo/resource/zh/新HSK一级词汇150词.pdf\") as pdf:\n",
    "    for page in pdf.pages:\n",
    "        text = page.extract_text()\n",
    "        result = re.findall(pattern, text)\n",
    "        d.update({int(match[0]): match[1] for match in result})\n",
    "sorted_dict_1 = dict(sorted(d.items(), key=operator.itemgetter(0)))\n",
    "save(sorted_dict_1, \"hsk-1\")"
   ]
  },
  {
   "cell_type": "code",
   "execution_count": 75,
   "metadata": {},
   "outputs": [],
   "source": [
    "d = {}\n",
    "with pdfplumber.open(\"/home/ldf/github/speakydo/resource/zh/新HSK二级词汇300词.pdf\") as pdf:\n",
    "    for page in pdf.pages:\n",
    "        text = page.extract_text()\n",
    "        result = re.findall(pattern, text)\n",
    "        d.update({int(match[0]): match[1] for match in result})\n",
    "sorted_dict_2 = dict(sorted(d.items(), key=operator.itemgetter(0)))\n",
    "save(sorted_dict_2, \"hsk-2\")"
   ]
  },
  {
   "cell_type": "markdown",
   "metadata": {},
   "source": [
    "## 三级\n",
    "- 解析方式不同"
   ]
  },
  {
   "cell_type": "markdown",
   "metadata": {},
   "source": [
    "## 四级"
   ]
  },
  {
   "cell_type": "code",
   "execution_count": 17,
   "metadata": {},
   "outputs": [],
   "source": [
    "d = {}\n",
    "with pdfplumber.open(\"/home/ldf/github/speakydo/resource/zh/新HSK四级词汇1200词.pdf\") as pdf:\n",
    "    for page in pdf.pages:\n",
    "        text = page.extract_text()\n",
    "        result = re.findall(pattern, text)\n",
    "        d.update({int(match[0]): match[1] for match in result})\n",
    "sorted_dict_4 = dict(sorted(d.items(), key=operator.itemgetter(0)))\n",
    "save(sorted_dict_4, \"hsk-4\")"
   ]
  },
  {
   "cell_type": "markdown",
   "metadata": {},
   "source": [
    "## 五级\n",
    "- `编号.【或者空格】汉字（拼音`"
   ]
  },
  {
   "cell_type": "code",
   "execution_count": 20,
   "metadata": {},
   "outputs": [],
   "source": [
    "pattern5 = r\"([0-9]{1,4})\\.\\s?([\\u4e00-\\u9fa5]+)\""
   ]
  },
  {
   "cell_type": "code",
   "execution_count": 21,
   "metadata": {},
   "outputs": [],
   "source": [
    "d = {}\n",
    "with pdfplumber.open(\"/home/ldf/github/speakydo/resource/zh/新HSK五级词汇2500词.pdf\") as pdf:\n",
    "    for page in pdf.pages:\n",
    "        text = page.extract_text()\n",
    "        result = re.findall(pattern5, text)\n",
    "        d.update({int(match[0]): match[1] for match in result})\n",
    "sorted_dict_5 = dict(sorted(d.items(), key=operator.itemgetter(0)))\n",
    "save(sorted_dict_5, \"hsk-5\")"
   ]
  },
  {
   "cell_type": "markdown",
   "metadata": {},
   "source": [
    "## 六级\n",
    "- 编号 拼音 汉字"
   ]
  },
  {
   "cell_type": "code",
   "execution_count": 69,
   "metadata": {},
   "outputs": [],
   "source": [
    "pattern6 = r\"([0-9]{1,4}).+?([\\u4e00-\\u9fa5]+)\""
   ]
  },
  {
   "cell_type": "code",
   "execution_count": 70,
   "metadata": {},
   "outputs": [
    {
     "data": {
      "text/plain": [
       "[('4841', '助理'), ('4888', '琢磨'), ('4935', '总而言之'), ('4982', '左右')]"
      ]
     },
     "execution_count": 70,
     "metadata": {},
     "output_type": "execute_result"
    }
   ],
   "source": [
    "text = \"4841．zhùlǐ助理 4888．zhuómó琢磨 4935．zǒng'éryánzhī总而言之 4982．zuǒyòu左右\"\n",
    "re.findall(pattern6, text)"
   ]
  },
  {
   "cell_type": "code",
   "execution_count": 72,
   "metadata": {},
   "outputs": [],
   "source": [
    "d = {}\n",
    "with pdfplumber.open(\"/home/ldf/github/speakydo/resource/zh/新HSK六级词汇5000词.pdf\") as pdf:\n",
    "    for page in pdf.pages:\n",
    "        text = page.extract_text()\n",
    "        # print(text)\n",
    "        result = re.findall(pattern6, text)\n",
    "        d.update({int(match[0]): match[1] for match in result})\n",
    "sorted_dict_6 = dict(sorted(d.items(), key=operator.itemgetter(0)))\n",
    "save(sorted_dict_6, \"hsk-6\")"
   ]
  },
  {
   "cell_type": "code",
   "execution_count": 74,
   "metadata": {},
   "outputs": [
    {
     "data": {
      "text/plain": [
       "2519"
      ]
     },
     "execution_count": 74,
     "metadata": {},
     "output_type": "execute_result"
    }
   ],
   "source": [
    "len(set(sorted_dict_6.values()).difference(set(sorted_dict_5.values())))"
   ]
  },
  {
   "cell_type": "code",
   "execution_count": 77,
   "metadata": {},
   "outputs": [],
   "source": [
    "words = {}\n",
    "words[\"basic\"] = list(set(sorted_dict_2.values()))\n",
    "words[\"intermediate\"] = list(set(sorted_dict_4.values()))\n",
    "words[\"advanced\"] = list(set(sorted_dict_6.values()))\n",
    "\n",
    "save(words, \"hsk-2021\")"
   ]
  }
 ],
 "metadata": {
  "kernelspec": {
   "display_name": "speakydo",
   "language": "python",
   "name": "python3"
  },
  "language_info": {
   "codemirror_mode": {
    "name": "ipython",
    "version": 3
   },
   "file_extension": ".py",
   "mimetype": "text/x-python",
   "name": "python",
   "nbconvert_exporter": "python",
   "pygments_lexer": "ipython3",
   "version": "3.11.4"
  },
  "orig_nbformat": 4
 },
 "nbformat": 4,
 "nbformat_minor": 2
}
